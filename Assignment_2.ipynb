{
  "nbformat": 4,
  "nbformat_minor": 0,
  "metadata": {
    "colab": {
      "provenance": [],
      "authorship_tag": "ABX9TyORIWQeosmhW9muDl+ZTWOJ",
      "include_colab_link": true
    },
    "kernelspec": {
      "name": "python3",
      "display_name": "Python 3"
    },
    "language_info": {
      "name": "python"
    }
  },
  "cells": [
    {
      "cell_type": "markdown",
      "metadata": {
        "id": "view-in-github",
        "colab_type": "text"
      },
      "source": [
        "<a href=\"https://colab.research.google.com/github/fizzahasan/MPhil-fall-22/blob/main/Assignment_2.ipynb\" target=\"_parent\"><img src=\"https://colab.research.google.com/assets/colab-badge.svg\" alt=\"Open In Colab\"/></a>"
      ]
    },
    {
      "cell_type": "code",
      "execution_count": null,
      "metadata": {
        "colab": {
          "base_uri": "https://localhost:8080/"
        },
        "id": "gl6cRh32AUv_",
        "outputId": "ecb64243-d8dd-4ffe-cebf-d079ed81589a"
      },
      "outputs": [
        {
          "output_type": "stream",
          "name": "stdout",
          "text": [
            "I like Cheese Pizza!\n",
            "I like Meat Pizza!\n",
            "I like Veggie Pizza!\n",
            "\n",
            "My favorite pizzas are:\n",
            "- Cheese Pizza\n",
            "- Meat Pizza\n",
            "- Veggie Pizza\n",
            "- Pepperoni pizza\n",
            "\n",
            "My friend's favorite pizzas are:\n",
            "- Cheese Pizza\n",
            "- Meat Pizza\n",
            "- Veggie Pizza\n",
            "- Greek pizza\n"
          ]
        }
      ],
      "source": [
        "#4-11. My Pizzas, Your Pizzas: Start with your program from Exercise 4-1\n",
        "#(page 60) Make a copy of the list of pizzas, and call it friend_pizzas\n",
        "#Then, do the following:\n",
        "#• Add a new pizza to the original list\n",
        "#• Add a different pizza to the list friend_pizzas\n",
        "#• Prove that you have two separate lists Print the message, My favorite\n",
        "#pizzas are:, and then use a for loop to print the first list Print the message,\n",
        "#My friend’s favorite pizzas are:, and then use a for loop to print the sec-\n",
        "#ond list Make sure each new pizza is stored in the appropriate list\n",
        "\n",
        "fizza_pizza_list = [\"Cheese Pizza\", \"Meat Pizza\", \"Veggie Pizza\"]\n",
        "for pizza in fizza_pizza_list:\n",
        "    print(\"I like \"+ pizza.title() + \"!\")\n",
        "\n",
        "friend_pizza = fizza_pizza_list[:]\n",
        "\n",
        "fizza_pizza_list.append(\"Pepperoni pizza\")\n",
        "friend_pizza.append(\"Greek pizza\")\n",
        "\n",
        "print(\"\\nMy favorite pizzas are:\")\n",
        "for pizza in fizza_pizza_list:\n",
        "    print(\"- \" + pizza)\n",
        "\n",
        "print(\"\\nMy friend's favorite pizzas are:\")\n",
        "for pizza in friend_pizza:\n",
        "    print(\"- \" + pizza)\n",
        "\n"
      ]
    },
    {
      "cell_type": "code",
      "source": [
        "#4-13. Buffet: A buffet-style restaurant offers only five basic foods Think of five\n",
        "#simple foods, and store them in a tuple\n",
        "#• Use a for loop to print each food the restaurant offers\n",
        "#• Try to modify one of the items, and make sure that Python rejects the\n",
        "#change\n",
        "#• The restaurant changes its menu, replacing two of the items with different\n",
        "#foods Add a block of code that rewrites the tuple, and then use a for\n",
        "#loop to print each of the items on the revised menu\n",
        "\n",
        "fizza_menu_items = ('Haleem', 'Biryani', 'Beef Kebab','Burger', 'Lassi' )\n",
        "\n",
        "print(\"You can choose from thE menu\")\n",
        "for item in fizza_menu_items:\n",
        "    print(\"- \" + item)\n",
        "\n",
        "\n",
        "fizza_menu_items = ('Haleem', 'Biryani', 'Beef Kebab','Roti', 'Lassi' )\n",
        "\n",
        "print(\"\\nMenu has been updated\")\n",
        "print(\"\\nNow you can choose from the menu list:\")\n",
        "for item in fizza_menu_items:\n",
        "    print(\"- \" + item)"
      ],
      "metadata": {
        "colab": {
          "base_uri": "https://localhost:8080/"
        },
        "id": "4k2eP43VHhhn",
        "outputId": "6613c8d3-21fc-41b7-91e2-7150784d0d24"
      },
      "execution_count": null,
      "outputs": [
        {
          "output_type": "stream",
          "name": "stdout",
          "text": [
            "You can choose from thE menu\n",
            "- Haleem\n",
            "- Biryani\n",
            "- Beef Kebab\n",
            "- Burger\n",
            "- Lassi\n",
            "\n",
            "Menu has been updated\n",
            "\n",
            "Now you can choose from the menu list:\n",
            "- Haleem\n",
            "- Biryani\n",
            "- Beef Kebab\n",
            "- Roti\n",
            "- Lassi\n"
          ]
        }
      ]
    },
    {
      "cell_type": "code",
      "source": [
        "#5-2. More Conditional Tests: You don’t have to limit the number of tests you\n",
        "#create to 10 If you want to try more comparisons, write more tests and add\n",
        "#them to conditional_tests.py Have at least one True and one False result for\n",
        "#each of the following:\n",
        "#• Tests for equality and inequality with strings\n",
        "#• Tests using the lower() function\n",
        "#• Numerical tests involving equality and inequality, greater than and\n",
        "#less than, greater than or equal to, and less than or equal to\n",
        "#• Tests using the and keyword and the or keyword\n",
        "#• Test whether an item is in a list\n",
        "#• Test whether an item is not in a list\n",
        "\n",
        "name_1 = \"Fizza\"\n",
        "name_2 = \"Fizza\"\n",
        "name_3 = \"Fizza\"\n",
        "\n",
        "#Equality and inequality of strings\n",
        "\n",
        "if (name_1 == name_3):\n",
        "    print(\"Equal!\")\n",
        "else:\n",
        "    print(\"Unequal!\")\n",
        "\n",
        "\n",
        "if(name_1 != name_2):\n",
        "    print(\"The names are unequal\")\n",
        "else:\n",
        "    print(\"The names are equal\")\n",
        "\n",
        "# Numerical tests\n",
        "\n",
        "age_1 = 35\n",
        "\n",
        "age_2 = 40\n",
        "\n",
        "if (age_1 ==35):\n",
        "    print(\"You can apply for government job\")\n",
        "\n",
        "if(age_1 != 40):\n",
        "          print(\"You cannot apply for government job\")\n",
        "\n",
        "if(age_1 <= age_2):\n",
        "    print(\"Yonger\")\n",
        "\n",
        "if(age_2 >= age_1):\n",
        "    print(\"Older\")\n",
        "\n",
        "# and or keyword\n",
        "if (age_1 ==35 or age_2>=40):\n",
        "    print(\"You can apply for government job\")\n",
        "\n",
        "if(age_1 ==35 and age_2==40):\n",
        "    print(\"Age difference is 5 years\")\n",
        "# Item in list or not\n",
        "\n",
        "fizza_menu = ['Haleem', 'Biryani', 'Beef Kebab','Roti' ]\n",
        "if 'Haleem' in fizza_menu:\n",
        "    print(\"Haleem is present in menu\")\n",
        "if 'Lassi' not in fizza_menu:\n",
        "    print(\"Lassi is not present\")"
      ],
      "metadata": {
        "colab": {
          "base_uri": "https://localhost:8080/"
        },
        "id": "f-wybOmQ7U9U",
        "outputId": "10ad9d59-50c0-4311-aa9b-505f2b45bbb1"
      },
      "execution_count": null,
      "outputs": [
        {
          "output_type": "stream",
          "name": "stdout",
          "text": [
            "Equal!\n",
            "The names are equal\n",
            "You can apply for government job\n",
            "You cannot apply for government job\n",
            "Yonger\n",
            "Older\n",
            "You can apply for government job\n",
            "Age difference is 5 years\n",
            "Haleem is present in menu\n",
            "Lassi is not present\n"
          ]
        }
      ]
    },
    {
      "cell_type": "code",
      "source": [
        "#6-11. Cities: Make a dictionary called cities Use the names of three cities as\n",
        "#keys in your dictionary Create a dictionary of information about each city and\n",
        "#include the country that the city is in, its approximate population, and one fact\n",
        "#about that city The keys for each city’s dictionary should be something like\n",
        "#country, population, and fact Print the name of each city and all of the infor-\n",
        "#mation you have stored about it\n",
        "\n",
        "fizza_cities = {\n",
        "    'Multan': {\n",
        "        'country': 'Pakistan',\n",
        "        'population':'1 Million',\n",
        "        'facts': 'City of Saints',\n",
        "        },\n",
        "    'Lahore': {\n",
        "        'country': 'Pakistan',\n",
        "        'population':'11 Million',\n",
        "        'facts': 'Second largest city',\n",
        "        },\n",
        "    'Jahanian': {\n",
        "        'country': 'Pakistan',\n",
        "        'population': '343_361',\n",
        "        'facts': 'The headquarters of the tehsil',\n",
        "        }\n",
        "    }\n",
        "\n",
        "for cities, city_info in fizza_cities.items():\n",
        "   \n",
        "\n",
        "    print(\"\\ncityname : \" + cities)\n",
        "    print(\"\\tcountry: \" +city_info['country'])\n",
        "    print(\"\\tpopulation: \" +city_info['population'])\n",
        "    print(\"\\tfacts: \" +city_info['facts'])\n",
        "    "
      ],
      "metadata": {
        "colab": {
          "base_uri": "https://localhost:8080/"
        },
        "outputId": "5bba12cc-f6dd-4bcb-afe0-c5568dad33b6",
        "id": "4HWaRFAaXbx5"
      },
      "execution_count": null,
      "outputs": [
        {
          "output_type": "stream",
          "name": "stdout",
          "text": [
            "\n",
            "cityname : Multan\n",
            "\tcountry: Pakistan\n",
            "\tpopulation: 1 Million\n",
            "\tfacts: City of Saints\n",
            "\n",
            "cityname : Lahore\n",
            "\tcountry: Pakistan\n",
            "\tpopulation: 11 Million\n",
            "\tfacts: Second largest city\n",
            "\n",
            "cityname : Jahanian\n",
            "\tcountry: Pakistan\n",
            "\tpopulation: 343_361\n",
            "\tfacts: The headquarters of the tehsil\n"
          ]
        }
      ]
    },
    {
      "cell_type": "code",
      "source": [
        "#6-12. Extensions: We’re now working with examples that are complex enough\n",
        "#that they can be extended in any number of ways Use one of the example pro-\n",
        "#grams from this chapter, and extend it by adding new keys and values, chang-\n",
        "#ing the context of the program or improving the formatting of the output\n",
        "\n",
        "fizza_dict = {'first_name' : 'Hanan', 'last_name' : 'Hasan', 'age':'27',}\n",
        "print('His name is ' + fizza_dict['first_name'] +' ' +  fizza_dict['last_name'])\n",
        "print(\"He is \" + fizza_dict['age'] )\n",
        "\n",
        "\n",
        "fizza_dict = {'first_name' : 'Hanan', 'last_name' : 'Hasan', 'age':'27','city' : 'Pakistan',}\n",
        "print(\"\\nAfter adding new value and key and dictionary\")\n",
        "print('His name is ' + fizza_dict['first_name'] +' ' +  fizza_dict['last_name'])\n",
        "print(\"He is \" + fizza_dict['age'] +\" years old and lives in \" + fizza_dict['city'])"
      ],
      "metadata": {
        "colab": {
          "base_uri": "https://localhost:8080/"
        },
        "id": "myL86m--8q0y",
        "outputId": "6d5c57d2-4850-4577-8344-634ccc50532c"
      },
      "execution_count": null,
      "outputs": [
        {
          "output_type": "stream",
          "name": "stdout",
          "text": [
            "His name is Hanan Hasan\n",
            "He is 27\n",
            "\n",
            "After adding new value and key and dictionary\n",
            "His name is Hanan Hasan\n",
            "He is 27 years old and lives in Pakistan\n"
          ]
        }
      ]
    }
  ]
}