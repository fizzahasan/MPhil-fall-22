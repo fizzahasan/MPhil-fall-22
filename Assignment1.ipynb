{
  "nbformat": 4,
  "nbformat_minor": 0,
  "metadata": {
    "colab": {
      "provenance": [],
      "authorship_tag": "ABX9TyM7fNix3ek94ng+Lu402vSV",
      "include_colab_link": true
    },
    "kernelspec": {
      "name": "python3",
      "display_name": "Python 3"
    },
    "language_info": {
      "name": "python"
    }
  },
  "cells": [
    {
      "cell_type": "markdown",
      "metadata": {
        "id": "view-in-github",
        "colab_type": "text"
      },
      "source": [
        "<a href=\"https://colab.research.google.com/github/fizzahasan/MPhil-fall-22/blob/main/Assignment1.ipynb\" target=\"_parent\"><img src=\"https://colab.research.google.com/assets/colab-badge.svg\" alt=\"Open In Colab\"/></a>"
      ]
    },
    {
      "cell_type": "code",
      "execution_count": null,
      "metadata": {
        "colab": {
          "base_uri": "https://localhost:8080/"
        },
        "id": "tyHTFla7vYNJ",
        "outputId": "ce2fedfc-198e-497d-b1b7-56fb78fb29dd"
      },
      "outputs": [
        {
          "output_type": "stream",
          "name": "stdout",
          "text": [
            "Haiqa, I invite you on dinner tonight\n",
            "Hasan, I invite you on dinner tonight\n",
            "Ayesha, I invite you on dinner tonight\n"
          ]
        }
      ],
      "source": [
        "#3-4. Guest List: If you could invite anyone, living or deceased, to dinner, who\n",
        "#would you invite? Make a list that includes at least three people you’d like to\n",
        "#invite to dinner Then use your list to print a message to each person, inviting\n",
        "#them to dinner.\n",
        "fizza_guests=['Haiqa', 'Hasan', 'Ayesha']\n",
        "message=\"I invite you on dinner tonight\"\n",
        "print(fizza_guests[0] + \", \" + message)\n",
        "print(fizza_guests[1] + \", \" + message)\n",
        "print(fizza_guests[2] + \", \" + message)"
      ]
    },
    {
      "cell_type": "code",
      "source": [
        "#3-5. Changing Guest List: You just heard that one of your guests can’t make the\n",
        "#dinner, so you need to send out a new set of invitations You’ll have to think of\n",
        "#someone else to invite\n",
        "#• Start with your program from Exercise 3-4 Add a print statement at the\n",
        "#end of your program stating the name of the guest who can’t make it\n",
        "#• Modify your list, replacing the name of the guest who can’t make it with\n",
        "#the name of the new person you are inviting\n",
        "#• Print a second set of invitation messages, one for each person who is still \n",
        "#in a list\n",
        "print(fizza_guests[2] + \", \" + \"will not be able to attend dinner\")\n",
        "fizza_guests[2] = \"Ali\"\n",
        "print(fizza_guests)"
      ],
      "metadata": {
        "colab": {
          "base_uri": "https://localhost:8080/"
        },
        "id": "6PWkQUiUvv3c",
        "outputId": "7f34f920-fcd9-4b18-bf1d-ee80b8f1c9c1"
      },
      "execution_count": null,
      "outputs": [
        {
          "output_type": "stream",
          "name": "stdout",
          "text": [
            "Ayesha, will not be able to attend dinner\n",
            "['Haiqa', 'Hasan', 'Ali']\n"
          ]
        }
      ]
    },
    {
      "cell_type": "code",
      "source": [
        "print(fizza_guests[0] + \", \" + message)\n",
        "print(fizza_guests[1] + \", \" + message)\n",
        "print(fizza_guests[2] + \", \" + message)"
      ],
      "metadata": {
        "colab": {
          "base_uri": "https://localhost:8080/"
        },
        "id": "zlvMsR2bv0WX",
        "outputId": "f323e9ef-551e-4507-d5ea-e5027ff4ff96"
      },
      "execution_count": null,
      "outputs": [
        {
          "output_type": "stream",
          "name": "stdout",
          "text": [
            "Haiqa, I invite you on dinner tonight\n",
            "Hasan, I invite you on dinner tonight\n",
            "Ali, I invite you on dinner tonight\n"
          ]
        }
      ]
    },
    {
      "cell_type": "code",
      "source": [
        "#3-6. More Guests: You just found a bigger dinner table, so now more space is\n",
        "#available Think of three more guests to invite to dinner\n",
        "#• Start with your program from Exercise 3-4 or Exercise 3-5 Add a print\n",
        "#statement to the end of your program informing people that you found a\n",
        "#bigger dinner table\n",
        "print(\"Hello everyone, I found a bigger dinner table\")"
      ],
      "metadata": {
        "colab": {
          "base_uri": "https://localhost:8080/"
        },
        "id": "wo6jdIEEyOaj",
        "outputId": "16473cce-e458-46e3-904f-18e80e3e8985"
      },
      "execution_count": null,
      "outputs": [
        {
          "output_type": "stream",
          "name": "stdout",
          "text": [
            "Hello everyone, I found a bigger dinner table\n"
          ]
        }
      ]
    },
    {
      "cell_type": "code",
      "source": [
        "# Use insert() to add one new guest to the beginning of your list\n",
        "fizza_guests.insert(0, \"Fatima\")\n",
        "print(fizza_guests)"
      ],
      "metadata": {
        "colab": {
          "base_uri": "https://localhost:8080/"
        },
        "id": "CxPmyUZ1yP_y",
        "outputId": "b51b7020-43b4-41e4-e9a8-5e4f72327ae0"
      },
      "execution_count": null,
      "outputs": [
        {
          "output_type": "stream",
          "name": "stdout",
          "text": [
            "['Fatima', 'Haiqa', 'Hasan', 'Ali']\n"
          ]
        }
      ]
    },
    {
      "cell_type": "code",
      "source": [
        "# Use insert() to add one new guest to the middle of your list\n",
        "fizza_guests.insert(2, \"Asad\")\n",
        "print(fizza_guests)"
      ],
      "metadata": {
        "colab": {
          "base_uri": "https://localhost:8080/"
        },
        "id": "Y-MmiXQDyVpk",
        "outputId": "c18ff11f-1d88-41ba-c8b2-9d56e657e39a"
      },
      "execution_count": null,
      "outputs": [
        {
          "output_type": "stream",
          "name": "stdout",
          "text": [
            "['Fatima', 'Haiqa', 'Asad', 'Hasan', 'Ali']\n"
          ]
        }
      ]
    },
    {
      "cell_type": "code",
      "source": [
        "#Use append() to add one new guest to the end of your list\n",
        "fizza_guests.append(\"Bisma\")\n",
        "print(fizza_guests)"
      ],
      "metadata": {
        "colab": {
          "base_uri": "https://localhost:8080/"
        },
        "id": "VS4gRnR7ybr2",
        "outputId": "c179e28f-f58c-4b07-df68-96e574d48cdc"
      },
      "execution_count": null,
      "outputs": [
        {
          "output_type": "stream",
          "name": "stdout",
          "text": [
            "['Fatima', 'Haiqa', 'Asad', 'Hasan', 'Ali', 'Bisma']\n"
          ]
        }
      ]
    },
    {
      "cell_type": "code",
      "source": [
        "#Print a new set of invitation messages, one for each person in your list\n",
        "#Print a message to each of the two people still on your list, letting them\n",
        "#know they’re still invited\n",
        "\n",
        "print(fizza_guests[0] + \", \" + message + \".\")\n",
        "print(fizza_guests[1] + \", \" + message + \".\")\n",
        "print(fizza_guests[2] + \", \" + message + \".\")\n",
        "print(fizza_guests[3] + \", \" + message + \".\")\n",
        "print(fizza_guests[4] + \", \" + message + \".\")\n",
        "print(fizza_guests[5] + \", \" + message + \".\")"
      ],
      "metadata": {
        "colab": {
          "base_uri": "https://localhost:8080/"
        },
        "id": "agDE3cB-0N5H",
        "outputId": "0d06c94d-4270-4124-b4e4-800e341ace6a"
      },
      "execution_count": null,
      "outputs": [
        {
          "output_type": "stream",
          "name": "stdout",
          "text": [
            "Fatima, I invite you on dinner tonight.\n",
            "Haiqa, I invite you on dinner tonight.\n",
            "Asad, I invite you on dinner tonight.\n",
            "Hasan, I invite you on dinner tonight.\n",
            "Ali, I invite you on dinner tonight.\n",
            "Bisma, I invite you on dinner tonight.\n"
          ]
        }
      ]
    },
    {
      "cell_type": "code",
      "source": [
        "#3-7. Shrinking Guest List: You just found out that your new dinner table won’t\n",
        "#arrive in time for the dinner, and you have space for only two guests\n",
        "#• Start with your program from Exercise 3-6 Add a new line that prints a\n",
        "#message saying that you can invite only two people for dinner\n",
        "print(\"I can invite only two people for dinner\")"
      ],
      "metadata": {
        "colab": {
          "base_uri": "https://localhost:8080/"
        },
        "id": "WzR5JrHq0U7s",
        "outputId": "c9c58a12-321a-47a4-bcbb-3ee172daedff"
      },
      "execution_count": null,
      "outputs": [
        {
          "output_type": "stream",
          "name": "stdout",
          "text": [
            "I can invite only two people for dinner\n"
          ]
        }
      ]
    },
    {
      "cell_type": "code",
      "source": [
        "#Use pop() to remove guests from your list one at a time until only two\n",
        "#names remain in your list Each time you pop a name from your list, print\n",
        "#a message to that person letting them know you’re sorry you can’t invite\n",
        "#them to dinner\n",
        "#• Print a message to each of the two people still on your list, letting them\n",
        "#know they’re still invited\n",
        "#• Use del to remove the last two names from your list, so you have an empty\n",
        "#list Print your list to make sure you actually have an empty list at the end\n",
        "#of your program\n",
        "removed1 = fizza_guests.pop(0)\n",
        "print(\"Hi \"+removed1+\", Sorry I can't invite you to dinner\")\n",
        "removed2 = fizza_guests.pop(0)\n",
        "print(\"Hi \"+removed2+\", Sorry I can't invite you to dinner\")\n",
        "removed3 = fizza_guests.pop(0)\n",
        "print(\"Hi \"+removed3+\", Sorry I can't invite you to dinner\")\n",
        "removed4 = fizza_guests.pop(0)\n",
        "print(\"Hi \"+removed4+\", Sorry I can't invite you to dinner\\n\")\n",
        "print(\"Hi \"+fizza_guests[0]+\", You are still invited for the Dinner\")\n",
        "print(\"Hi \"+fizza_guests[1]+\", You are still invited for the Dinner\")\n",
        "\n",
        "del fizza_guests[0]\n",
        "del fizza_guests[0]\n",
        "print(fizza_guests)"
      ],
      "metadata": {
        "colab": {
          "base_uri": "https://localhost:8080/"
        },
        "id": "gnwQgcNB0aYH",
        "outputId": "7755e796-e3c7-45bb-aac4-5c69675cb2a2"
      },
      "execution_count": null,
      "outputs": [
        {
          "output_type": "stream",
          "name": "stdout",
          "text": [
            "Hi Fatima, Sorry I can't invite you to dinner\n",
            "Hi Haiqa, Sorry I can't invite you to dinner\n",
            "Hi Asad, Sorry I can't invite you to dinner\n",
            "Hi Hasan, Sorry I can't invite you to dinner\n",
            "\n",
            "Hi Ali, You are still invited for the Dinner\n",
            "Hi Bisma, You are still invited for the Dinner\n",
            "[]\n"
          ]
        }
      ]
    },
    {
      "cell_type": "code",
      "source": [
        "#4-1. Pizzas: Think of at least three kinds of your favorite pizza Store these\n",
        "#pizza names in a list, and then use a for loop to print the name of each pizza\n",
        "fizza_pizza_list =[\"Cheese Pizza\", \"Meat Pizza\", \"Veggie Pizza\"]\n",
        "for pizza in fizza_pizza_list:\n",
        "  print(fizza_pizza_list)"
      ],
      "metadata": {
        "colab": {
          "base_uri": "https://localhost:8080/"
        },
        "id": "HhYT8vWO3gen",
        "outputId": "c0042414-8cba-408b-a49c-d5ee0b99fa3d"
      },
      "execution_count": null,
      "outputs": [
        {
          "output_type": "stream",
          "name": "stdout",
          "text": [
            "['Cheese Pizza', 'Meat Pizza', 'Veggie Pizza']\n",
            "['Cheese Pizza', 'Meat Pizza', 'Veggie Pizza']\n",
            "['Cheese Pizza', 'Meat Pizza', 'Veggie Pizza']\n"
          ]
        }
      ]
    },
    {
      "cell_type": "code",
      "source": [
        "#Modify your for loop to print a sentence using the name of the pizza\n",
        "#instead of printing just the name of the pizza For each pizza you should\n",
        "#$have one line of output containing a simple statement like I like pepperoni\n",
        "#pizza\n",
        "for pizza in fizza_pizza_list:\n",
        "  print(\"I like \" + pizza + \".\")"
      ],
      "metadata": {
        "colab": {
          "base_uri": "https://localhost:8080/"
        },
        "id": "qs5vpOF73jZr",
        "outputId": "2f783ee1-2050-4728-f38b-ade8496d81d1"
      },
      "execution_count": null,
      "outputs": [
        {
          "output_type": "stream",
          "name": "stdout",
          "text": [
            "I like Cheese Pizza.\n",
            "I like Meat Pizza.\n",
            "I like Veggie Pizza.\n"
          ]
        }
      ]
    },
    {
      "cell_type": "code",
      "source": [
        "#Add a line at the end of your program, outside the for loop, that states\n",
        "#how much you like pizza The output should consist of three or more lines\n",
        "#about the kinds of pizza you like and then an additional sentence, such as\n",
        "#I really love pizza!\n",
        "Cheese_pizza = [\"I like Cheese pizza.\", \"It's very cheesy.\", \"it's taste very good.\"]\n",
        "for pizza in Cheese_pizza:\n",
        "  print(pizza)\n",
        "print(\"\\nI really love pizza!\")  "
      ],
      "metadata": {
        "colab": {
          "base_uri": "https://localhost:8080/"
        },
        "id": "zxH6AdUI3vFG",
        "outputId": "bc0cbecb-bf80-4941-c4d2-51c97a7198ed"
      },
      "execution_count": null,
      "outputs": [
        {
          "output_type": "stream",
          "name": "stdout",
          "text": [
            "I like Cheese pizza.\n",
            "It's very cheesy.\n",
            "it's taste very good.\n",
            "\n",
            "I really love pizza!\n"
          ]
        }
      ]
    },
    {
      "cell_type": "code",
      "source": [
        "#4-2. Animals: Think of at least three different animals that have a common char-\n",
        "#acteristic Store the names of these animals in a list, and then use a for loop to\n",
        "#print out the name of each animal\n",
        "fizza_animals_list = [\"Goat\",\"Sheep\",\"Cow\"]\n",
        "for animals in fizza_animals_list:\n",
        "  print(animals)"
      ],
      "metadata": {
        "colab": {
          "base_uri": "https://localhost:8080/"
        },
        "id": "UOO0cp5t3w7T",
        "outputId": "4b38ee00-7174-40dd-f2b9-1ff514a8a673"
      },
      "execution_count": null,
      "outputs": [
        {
          "output_type": "stream",
          "name": "stdout",
          "text": [
            "Goat\n",
            "Sheep\n",
            "Cow\n"
          ]
        }
      ]
    },
    {
      "cell_type": "code",
      "source": [
        "#Modify your program to print a statement about each animal, such as\n",
        "#A dog would make a great pet\n",
        "for animals in fizza_animals_list:\n",
        "  print(\"The \" + animals + \" gives milk.\")"
      ],
      "metadata": {
        "colab": {
          "base_uri": "https://localhost:8080/"
        },
        "id": "FsUN-HNB3w9z",
        "outputId": "f3a480af-3529-4d54-9ac3-7c5d4b7f8cf2"
      },
      "execution_count": null,
      "outputs": [
        {
          "output_type": "stream",
          "name": "stdout",
          "text": [
            "The Goat gives milk.\n",
            "The Sheep gives milk.\n",
            "The Cow gives milk.\n"
          ]
        }
      ]
    },
    {
      "cell_type": "code",
      "source": [
        "#Add a line at the end of your program stating what these animals have in\n",
        "#common You could print a sentence such as Any of these animals would\n",
        "#make a great pet!\n",
        "print(\"All of the these animals gives milk.\")"
      ],
      "metadata": {
        "colab": {
          "base_uri": "https://localhost:8080/"
        },
        "id": "SAOxx5uF3-Lc",
        "outputId": "6959be3d-d976-4025-c17a-f31eb2a9c099"
      },
      "execution_count": null,
      "outputs": [
        {
          "output_type": "stream",
          "name": "stdout",
          "text": [
            "All of the these animals gives milk.\n"
          ]
        }
      ]
    }
  ]
}